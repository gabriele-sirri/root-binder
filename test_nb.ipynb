{
 "cells": [
  {
   "cell_type": "markdown",
   "id": "7066cca0-c264-4c57-b29a-e1621af57df5",
   "metadata": {},
   "source": [
    "Activate JSROOT mode to allow to inline ROOT graphics in the notebook"
   ]
  },
  {
   "cell_type": "code",
   "execution_count": null,
   "id": "af2e46a8-af3b-4428-9008-ceaa4621e1ff",
   "metadata": {},
   "outputs": [],
   "source": [
    "%jsroot on"
   ]
  },
  {
   "cell_type": "code",
   "execution_count": null,
   "id": "af139051-366f-4f92-be19-7aaae4d9b907",
   "metadata": {
    "tags": []
   },
   "outputs": [],
   "source": [
    ".x test.cpp"
   ]
  }
 ],
 "metadata": {
  "kernelspec": {
   "display_name": "ROOT C++",
   "language": "c++",
   "name": "root"
  },
  "language_info": {
   "codemirror_mode": "text/x-c++src",
   "file_extension": ".C",
   "mimetype": " text/x-c++src",
   "name": "c++"
  }
 },
 "nbformat": 4,
 "nbformat_minor": 5
}
